{
 "cells": [
  {
   "cell_type": "code",
   "execution_count": 18,
   "id": "0bac5ccd",
   "metadata": {},
   "outputs": [],
   "source": [
    "import sqlite3\n",
    "import math\n",
    "import pandas as pd\n",
    "\n",
    "# Kết nối tới cơ sở dữ liệu SQLite\n",
    "conn = sqlite3.connect('btc3.db')\n",
    "cursor = conn.cursor()"
   ]
  },
  {
   "cell_type": "markdown",
   "id": "428c1156",
   "metadata": {},
   "source": [
    "### Câu 1: Hãy viết câu lệnh SQL để tính sự tương quan giữa A và B theo công thức sau:"
   ]
  },
  {
   "cell_type": "code",
   "execution_count": 15,
   "id": "0d2b5f8b",
   "metadata": {},
   "outputs": [],
   "source": [
    "# Tạo bảng data \n",
    "cursor.execute('''\n",
    "    CREATE TABLE data (\n",
    "        day TEXT PRIMARY KEY,\n",
    "        a FLOAT,\n",
    "        b FLOAT,\n",
    "        c FLOAT\n",
    "    )\n",
    "''')\n",
    "\n",
    "# Chèn dữ liệu\n",
    "data = [\n",
    "    (\"Day 1\", 8.0, 9.0, 7.0),   # Day 1\n",
    "    (\"Day 2\", 7.5, 8.5, 7.0),   # Day 2\n",
    "    (\"Day 3\", 6.0, 7.0, 8.0),   # Day 3\n",
    "    (\"Day 4\", 7.0, 6.0, 5.0)    # Day 4\n",
    "]\n",
    "\n",
    "cursor.executemany('INSERT INTO data (day, a, b, c) VALUES (?, ?, ?, ?)', data)\n",
    "conn.commit()\n"
   ]
  },
  {
   "cell_type": "code",
   "execution_count": 17,
   "id": "ea246810",
   "metadata": {},
   "outputs": [
    {
     "name": "stdout",
     "output_type": "stream",
     "text": [
      "Hệ số tương quan r_AB = 0.6911\n"
     ]
    }
   ],
   "source": [
    "# Tính các thành phần cần thiết cho r_AB (tương đương SELECT)\n",
    "cursor.execute('SELECT COUNT(*) FROM data')\n",
    "n = cursor.fetchone()[0]\n",
    "\n",
    "cursor.execute('SELECT SUM(a), SUM(b) FROM data')\n",
    "sum_a, sum_b = cursor.fetchone()\n",
    "\n",
    "cursor.execute('SELECT SUM(a * b) FROM data')\n",
    "sum_ab = cursor.fetchone()[0]\n",
    "\n",
    "cursor.execute('SELECT SUM(a * a), SUM(b * b) FROM data')\n",
    "sum_a_squared, sum_b_squared = cursor.fetchone()\n",
    "\n",
    "# Tính r_AB (tương đương công thức trong SELECT)\n",
    "numerator = n * sum_ab - sum_a * sum_b\n",
    "denominator = math.sqrt((n * sum_a_squared - sum_a ** 2) * (n * sum_b_squared - sum_b ** 2))\n",
    "\n",
    "if denominator != 0:\n",
    "    r_ab = numerator / denominator\n",
    "    # Làm tròn đến 4 chữ số thập phân \n",
    "    r_ab_rounded = round(r_ab, 4)\n",
    "    print(f\"Hệ số tương quan r_AB = {r_ab_rounded}\")\n",
    "else:\n",
    "    print(\"Không thể tính hệ số tương quan (mẫu số bằng 0).\")\n"
   ]
  },
  {
   "cell_type": "markdown",
   "id": "11e9e455",
   "metadata": {},
   "source": [
    "### Câu 2: Một công ty oto đang kiểm tra 3 loại mẫu mới A, B và C trong 4 ngày, và chấm điểm theo thang từ 1 đến 10 điểm cho mỗi ngày với bảng sau. Liệu có sự khác biệt đáng kể giữa các mẫu dựa trên điểm số mà chúng nhận được trong 4 ngày thử nghiệm không? Kết quả thử nghiệm phụ thuộc vào ngày hay phụ thuộc vào mẫu xe? Hãy chuyển đổi dữ liệu sang dạng quan hệ và thực hiện kiểm tra χ2."
   ]
  },
  {
   "cell_type": "code",
   "execution_count": null,
   "id": "b4f5255c",
   "metadata": {},
   "outputs": [],
   "source": [
    "# Tạo bảng data \n",
    "cursor.execute('''\n",
    "    CREATE TABLE data1 (\n",
    "        Day TEXT,\n",
    "        Model TEXT,\n",
    "        Score FLOAT\n",
    "    )\n",
    "''')\n",
    "\n",
    "# Chèn dữ liệu\n",
    "data1 = [\n",
    "    (\"Day 1\",'A', 8.0),\n",
    "    (\"Day 1\",'B', 9.0),\n",
    "    (\"Day 1\",'C', 7.0),   \n",
    "    (\"Day 2\",'A', 7.5),\n",
    "    (\"Day 2\",'B', 8.5), \n",
    "    (\"Day 2\",'C', 7.0),    \n",
    "    (\"Day 3\",'A', 6.0),\n",
    "    (\"Day 3\",'B', 7.0),\n",
    "    (\"Day 3\",'C', 8.0),   \n",
    "    (\"Day 4\",'A', 7.0),\n",
    "    (\"Day 4\",'B', 6.0),\n",
    "    (\"Day 4\",'C', 5.0)    \n",
    "]\n",
    "\n",
    "cursor.executemany('INSERT INTO data1 (Day,Model,Score) VALUES (?, ?, ?)', data1)\n",
    "conn.commit()"
   ]
  },
  {
   "cell_type": "code",
   "execution_count": null,
   "id": "73f3ced5",
   "metadata": {},
   "outputs": [],
   "source": [
    "# Tạo bảng tạm có phân loại\n",
    "cursor.execute('''\n",
    "    CREATE TEMP TABLE temp_categorized AS\n",
    "    SELECT *,\n",
    "           CASE\n",
    "               WHEN Score >= 8 THEN 'High'\n",
    "               WHEN Score >= 6 THEN 'Medium'\n",
    "               ELSE 'Low'\n",
    "           END AS Category\n",
    "    FROM data1\n",
    "''')"
   ]
  },
  {
   "cell_type": "code",
   "execution_count": 27,
   "id": "4bec1c41",
   "metadata": {},
   "outputs": [
    {
     "name": "stdout",
     "output_type": "stream",
     "text": [
      "\n",
      "Contingency Table:\n",
      "   Model  High  Medium  Low\n",
      "0     A     1       3    0\n",
      "1     B     2       2    0\n",
      "2     C     1       2    1\n"
     ]
    }
   ],
   "source": [
    "# Truy vấn bảng chéo\n",
    "df_chi = pd.read_sql_query('''\n",
    "    SELECT Model, \n",
    "           SUM(CASE WHEN Category = 'High' THEN 1 ELSE 0 END) AS High,\n",
    "           SUM(CASE WHEN Category = 'Medium' THEN 1 ELSE 0 END) AS Medium,\n",
    "           SUM(CASE WHEN Category = 'Low' THEN 1 ELSE 0 END) AS Low\n",
    "    FROM temp_categorized\n",
    "    GROUP BY Model\n",
    "''', conn)\n",
    "\n",
    "print(\"\\nContingency Table:\\n\", df_chi)"
   ]
  },
  {
   "cell_type": "code",
   "execution_count": 28,
   "id": "d4fbc812",
   "metadata": {},
   "outputs": [
    {
     "name": "stdout",
     "output_type": "stream",
     "text": [
      "\n",
      "Chi-square = 2.7857142857142865\n",
      "Degrees of freedom = 4\n",
      "p-value = 0.5943011903651585\n"
     ]
    }
   ],
   "source": [
    "from scipy.stats import chi2_contingency\n",
    "\n",
    "chi_table = df_chi.drop(columns='Model').values\n",
    "chi2, p, dof, expected = chi2_contingency(chi_table)\n",
    "\n",
    "print(\"\\nChi-square =\", chi2)\n",
    "print(\"Degrees of freedom =\", dof)\n",
    "print(\"p-value =\", p)\n"
   ]
  },
  {
   "cell_type": "markdown",
   "id": "02faf088",
   "metadata": {},
   "source": [
    "Với p = 0.5943 > 0.05, ta kết luận:\n",
    "Không có sự phụ thuộc rõ ràng giữa loại mẫu xe và mức điểm số (High, Medium, Low) trong quá trình thử nghiệm."
   ]
  },
  {
   "cell_type": "code",
   "execution_count": 33,
   "id": "3f99c2e0",
   "metadata": {},
   "outputs": [
    {
     "name": "stdout",
     "output_type": "stream",
     "text": [
      "Kiểm định χ² giữa ngày và điểm số :\n",
      "Chi² = 5.43, p = 0.4901\n",
      "=> Kết quả không phụ thuộc vào ngày.\n"
     ]
    }
   ],
   "source": [
    "\n",
    "long_df = pd.read_sql_query(\"\"\"\n",
    "SELECT \n",
    "    day,\n",
    "    sample,\n",
    "    score,\n",
    "    CASE \n",
    "        WHEN score <= 5 THEN 'Thấp'\n",
    "        WHEN score < 8 THEN 'Trung bình'\n",
    "        ELSE 'Cao'\n",
    "    END AS score_cat\n",
    "FROM (\n",
    "    SELECT day, 'A' AS sample, A AS score FROM scores\n",
    "    UNION ALL\n",
    "    SELECT day, 'B', B FROM scores\n",
    "    UNION ALL\n",
    "    SELECT day, 'C', C FROM scores\n",
    ")\n",
    "\"\"\", conn)\n",
    "# Tạo bảng tần số giữa ngày và nhóm điểm\n",
    "crosstab_day = pd.crosstab(long_df['day'], long_df['score_cat'])\n",
    "\n",
    "# Kiểm định χ²\n",
    "chi2_day, p_day, _, _ = chi2_contingency(crosstab_day)\n",
    "\n",
    "# In kết quả\n",
    "print(\"Kiểm định χ² giữa ngày và điểm số :\")\n",
    "print(f\"Chi² = {chi2_day:.2f}, p = {p_day:.4f}\")\n",
    "if p_day < 0.05:\n",
    "    print(\"=> Kết quả phụ thuộc vào ngày.\")\n",
    "else:\n",
    "    print(\"=> Kết quả không phụ thuộc vào ngày.\")\n"
   ]
  },
  {
   "cell_type": "markdown",
   "id": "da46c364",
   "metadata": {},
   "source": [
    "### Câu 3: Bảng flights(departure_time,…) chứa các giá trị thời gian dưới dạng số nguyên (ví dụ: 830 cho 8:30 AM, 1445 cho 2:45 PM). Hãy chuyển đổi các giá trị này thành định dạng thời gian."
   ]
  },
  {
   "cell_type": "code",
   "execution_count": null,
   "id": "a8f3feff",
   "metadata": {},
   "outputs": [],
   "source": [
    "# Tạo bảng data \n",
    "cursor.execute('''\n",
    "    CREATE TABLE flights (\n",
    "        flight_number TEXT,\n",
    "        departure_time INTEGER\n",
    "    )\n",
    "''')\n",
    "\n",
    "# Chèn dữ liệu\n",
    "flights = [\n",
    "    (\"VN123\",830),\n",
    "    (\"VN456\",1445),\n",
    "    (\"VN789\",605),   \n",
    "    (\"VN254\",2100),\n",
    "    (\"VN673\",0)  \n",
    "]\n",
    "\n",
    "cursor.executemany('INSERT INTO flights (flight_number,departure_time) VALUES (?, ?)', flights)\n",
    "conn.commit()"
   ]
  },
  {
   "cell_type": "code",
   "execution_count": 5,
   "id": "39d98a9f",
   "metadata": {},
   "outputs": [
    {
     "data": {
      "text/plain": [
       "[('VN123', 830),\n",
       " ('VN456', 1445),\n",
       " ('VN789', 605),\n",
       " ('VN254', 2100),\n",
       " ('VN673', 0)]"
      ]
     },
     "execution_count": 5,
     "metadata": {},
     "output_type": "execute_result"
    }
   ],
   "source": [
    "cursor.execute('SELECT * FROM flights')\n",
    "cursor.fetchall()"
   ]
  },
  {
   "cell_type": "code",
   "execution_count": 13,
   "id": "e89b4db4",
   "metadata": {},
   "outputs": [
    {
     "name": "stdout",
     "output_type": "stream",
     "text": [
      "flight_number\tDeparture_time\tKetqua\n",
      "VN123\t\t830\t\t08:30 AM\n",
      "VN456\t\t1445\t\t14:45 PM\n",
      "VN789\t\t605\t\t06:05 AM\n",
      "VN254\t\t2100\t\t21:00 PM\n",
      "VN673\t\t0\t\t00:00 AM\n"
     ]
    }
   ],
   "source": [
    "# Truy vấn chuyển định dạng thời gian\n",
    "cursor.execute('''\n",
    "    SELECT flight_number, departure_time,\n",
    "        CASE \n",
    "            WHEN departure_time < 1000 THEN \n",
    "                printf('0%d:%02d AM', departure_time / 100, departure_time % 100)  -- Trước 10:00 AM\n",
    "            ELSE \n",
    "                printf('%d:%02d PM', departure_time / 100, departure_time % 100)  -- Sau 10:00 AM\n",
    "        END AS Ketqua\n",
    "    FROM flights;\n",
    "''')\n",
    "\n",
    "# In kết quả\n",
    "print(\"flight_number\\tDeparture_time\\tKetqua\")\n",
    "for row in cursor.fetchall():\n",
    "    print(f\"{row[0]}\\t\\t{row[1]}\\t\\t{row[2]}\")\n"
   ]
  },
  {
   "cell_type": "markdown",
   "id": "d0d9694e",
   "metadata": {},
   "source": [
    "### Câu 4: Viết truy vấn SQL để tìm các ngoại lệ bằng cách sử dụng MAD. Một quy tắc chung là xem xét các giá trị ngoại lệ lớn hơn 1,5 lần so với giá trị MAD, trong đó x là số độ lệch chuẩn mà ta coi là có ý nghĩa.\n",
    "\n",
    " Độ lệch tuyệt đối trung vị (Median Absolute Deviation MAD) là trung vị của giá trị tuyệt đối của sự\n",
    "sại khác giữa mỗi giá trị và trung vị.\n",
    "\n",
    "$$MAD=median(∣x_{i} − median(x)∣)\n"
   ]
  },
  {
   "cell_type": "code",
   "execution_count": 40,
   "id": "366e05ad",
   "metadata": {},
   "outputs": [],
   "source": [
    "# Tạo bảng dữ liệu \n",
    "cursor.execute('''\n",
    "    CREATE TABLE IF NOT EXISTS mad_data (\n",
    "        id INTEGER PRIMARY KEY AUTOINCREMENT,\n",
    "        value FLOAT\n",
    "    )\n",
    "''')\n",
    "\n",
    "cursor.execute('''INSERT INTO mad_data (value) VALUES \n",
    "               (10.5), (12.7), (15.3), (20.1), (1000), (10.0), (11.8),(14.5),(16.8),(19.0)\n",
    "''')\n",
    "conn.commit()"
   ]
  },
  {
   "cell_type": "code",
   "execution_count": 41,
   "id": "4011442d",
   "metadata": {},
   "outputs": [
    {
     "data": {
      "text/plain": [
       "[(1, 10.5),\n",
       " (2, 12.7),\n",
       " (3, 15.3),\n",
       " (4, 20.1),\n",
       " (5, 1000.0),\n",
       " (6, 10.0),\n",
       " (7, 11.8),\n",
       " (8, 14.5),\n",
       " (9, 16.8),\n",
       " (10, 19.0)]"
      ]
     },
     "execution_count": 41,
     "metadata": {},
     "output_type": "execute_result"
    }
   ],
   "source": [
    "cursor.execute('SELECT* FROM mad_data')\n",
    "cursor.fetchall()"
   ]
  },
  {
   "cell_type": "code",
   "execution_count": 2,
   "id": "e635e4e5",
   "metadata": {},
   "outputs": [
    {
     "name": "stdout",
     "output_type": "stream",
     "text": [
      "Median: 14.9\n"
     ]
    }
   ],
   "source": [
    "cursor.execute('''\n",
    "    WITH OrderedValues AS (\n",
    "        SELECT value \n",
    "        FROM mad_data \n",
    "        ORDER BY value\n",
    "    ),\n",
    "    CountValues AS (\n",
    "        SELECT COUNT(*) AS total \n",
    "        FROM mad_data\n",
    "    )\n",
    "    SELECT \n",
    "        CASE \n",
    "            WHEN (SELECT total FROM CountValues) % 2 = 1 THEN (\n",
    "                SELECT value \n",
    "                FROM OrderedValues \n",
    "                LIMIT 1 OFFSET (SELECT total / 2 FROM CountValues)\n",
    "            )\n",
    "            ELSE (\n",
    "                (SELECT value FROM OrderedValues LIMIT 1 OFFSET (SELECT (total - 1) / 2 FROM CountValues)) +\n",
    "                (SELECT value FROM OrderedValues LIMIT 1 OFFSET (SELECT total / 2 FROM CountValues))\n",
    "            ) / 2.0\n",
    "        END AS median;\n",
    "''')\n",
    "\n",
    "median_result = cursor.fetchall()\n",
    "median_x = median_result[0][0]  # Median value\n",
    "print(f\"Median: {median_x}\")"
   ]
  },
  {
   "cell_type": "code",
   "execution_count": 11,
   "id": "ac84aed5",
   "metadata": {},
   "outputs": [
    {
     "name": "stdout",
     "output_type": "stream",
     "text": [
      "=== NGOẠI LAI THEO PHƯƠNG PHÁP ĐỘ LỆCH CHUẨN (3σ) ===\n",
      "Trung bình: 113.0700\n",
      "Độ lệch chuẩn (x): 311.6540\n",
      "Ngưỡng (3σ): 934.9621\n",
      "Không có giá trị ngoại lai.\n"
     ]
    }
   ],
   "source": [
    "# 1. Tính trung bình và độ lệch chuẩn\n",
    "cursor.execute('''\n",
    "WITH mean_calc AS (\n",
    "  SELECT AVG(value) AS mean FROM mad_data\n",
    "),\n",
    "diffs AS (\n",
    "  SELECT (value - (SELECT mean FROM mean_calc)) AS diff FROM mad_data\n",
    ")\n",
    "SELECT \n",
    "  (SELECT mean FROM mean_calc) AS mean,\n",
    "  SQRT(SUM(diff * diff) / (COUNT(*) - 1)) AS std_dev\n",
    "FROM diffs\n",
    "''')\n",
    "mean, std_dev = cursor.fetchone()\n",
    "threshold = 3 * std_dev\n",
    "\n",
    "# 2. Tìm các giá trị ngoại lai\n",
    "cursor.execute('''\n",
    "SELECT value FROM mad_data\n",
    "WHERE ABS(value - ?) > ?\n",
    "''', (mean, threshold))\n",
    "outliers = cursor.fetchall()\n",
    "\n",
    "# 3. In kết quả\n",
    "print(\"=== NGOẠI LAI THEO PHƯƠNG PHÁP ĐỘ LỆCH CHUẨN (3σ) ===\")\n",
    "print(f\"Trung bình: {mean:.4f}\")\n",
    "print(f\"Độ lệch chuẩn (x): {std_dev:.4f}\")\n",
    "print(f\"Ngưỡng (3σ): {threshold:.4f}\")\n",
    "if outliers:\n",
    "    print(\"Giá trị ngoại lai:\", [row[0] for row in outliers])\n",
    "else:\n",
    "    print(\"Không có giá trị ngoại lai.\")\n"
   ]
  },
  {
   "cell_type": "markdown",
   "id": "8a9d43e7",
   "metadata": {},
   "source": [
    "Với ngưỡng tính được giá trị 1000 cũng không được coi là ngoại lai, vì:​ ∣1000 − 113.07∣ = 886.93 ≤ 934.9621\n"
   ]
  },
  {
   "cell_type": "code",
   "execution_count": 10,
   "id": "d38f2c1d",
   "metadata": {},
   "outputs": [
    {
     "name": "stdout",
     "output_type": "stream",
     "text": [
      "=== NGOẠI LAI THEO PHƯƠNG PHÁP MAD ===\n",
      "Trung vị (median): 14.9000\n",
      "MAD: 3.6000\n",
      "Ngưỡng (1.5 × MAD): 5.4000\n",
      "Giá trị ngoại lai: [1000.0]\n",
      "Tổng số ngoại lai: 1\n"
     ]
    }
   ],
   "source": [
    "# 1. Tính trung vị\n",
    "cursor.execute('''\n",
    "    WITH count_cte AS (\n",
    "        SELECT COUNT(*) AS total FROM mad_data\n",
    "    ),\n",
    "    sorted_values AS (\n",
    "        SELECT value, ROW_NUMBER() OVER (ORDER BY value) AS rn\n",
    "        FROM mad_data\n",
    "    )\n",
    "    SELECT AVG(value) AS median\n",
    "    FROM sorted_values, count_cte\n",
    "    WHERE rn IN ((total + 1) / 2, (total + 2) / 2)\n",
    "''')\n",
    "median = cursor.fetchone()[0]\n",
    "\n",
    "# 2. Tính MAD\n",
    "cursor.execute('''\n",
    "    WITH deviations AS (\n",
    "        SELECT ABS(value - ?) AS deviation FROM mad_data\n",
    "    ),\n",
    "    count_cte AS (\n",
    "        SELECT COUNT(*) AS total FROM deviations\n",
    "    ),\n",
    "    sorted_dev AS (\n",
    "        SELECT deviation, ROW_NUMBER() OVER (ORDER BY deviation) AS rn FROM deviations\n",
    "    )\n",
    "    SELECT AVG(deviation) AS mad\n",
    "    FROM sorted_dev, count_cte\n",
    "    WHERE rn IN ((total + 1) / 2, (total + 2) / 2)\n",
    "''', (median,))\n",
    "mad = cursor.fetchone()[0]\n",
    "mad_threshold = 1.5 * mad\n",
    "\n",
    "# 3. Tìm giá trị ngoại lai theo MAD\n",
    "cursor.execute('SELECT value FROM mad_data WHERE ABS(value - ?) > ?', (median, mad_threshold))\n",
    "mad_outliers = [row[0] for row in cursor.fetchall()]\n",
    "\n",
    "# 4. In kết quả chi tiết\n",
    "print(\"=== NGOẠI LAI THEO PHƯƠNG PHÁP MAD ===\")\n",
    "print(f\"Trung vị (median): {median:.4f}\")\n",
    "print(f\"MAD: {mad:.4f}\")\n",
    "print(f\"Ngưỡng (1.5 × MAD): {mad_threshold:.4f}\")\n",
    "print(\"Giá trị ngoại lai:\", mad_outliers)\n",
    "print(f\"Tổng số ngoại lai: {len(mad_outliers)}\")"
   ]
  },
  {
   "cell_type": "markdown",
   "id": "a4a18c47",
   "metadata": {},
   "source": [
    "```\n",
    "Nhận xét:\n",
    "- MAD phát hiện ngoại lai dựa trên trung vị, ít bị ảnh hưởng bởi giá trị cực đoan\n",
    "- Độ lệch chuẩn nhạy cảm hơn với các giá trị cực đoan\n",
    "- Trong bài này, MAD tìm thấy 1 ngoại lai còn độ lệch chuẩn không tìm thấy ngoại lai nào do ngoại lai quá lớn ảnh hưởng tới độ lệch chuẩn \n",
    "```"
   ]
  },
  {
   "cell_type": "markdown",
   "id": "56700977",
   "metadata": {},
   "source": [
    "### Câu 5: Hãy xác định liệu hai người trong bảng Patient(last_name, weight, height) có phải là một người hay không bằng cách sử dụng khoảng cách kết hợp Boolean trên “last_name” và “weight”."
   ]
  },
  {
   "cell_type": "code",
   "execution_count": 17,
   "id": "8fc3c090",
   "metadata": {},
   "outputs": [],
   "source": [
    "# 2. Tạo bảng Patient (last_name, weight, height)\n",
    "cursor.execute('''\n",
    "CREATE TABLE IF NOT EXISTS Patient (\n",
    "    last_name TEXT,\n",
    "    weight FLOAT,\n",
    "    height FLOAT\n",
    ")\n",
    "''')\n",
    "\n",
    "# 3. Thêm dữ liệu vào bảng Patient\n",
    "patients_data = [\n",
    "    ('Nguyen', 48,168),\n",
    "    ('Tran', 58.5, 180),\n",
    "    ('Phung',52, 165),\n",
    "    ('Nguyen', 47.5, 167.5)\n",
    "]\n",
    "cursor.executemany('''\n",
    "INSERT INTO Patient (last_name, weight, height) \n",
    "VALUES (?, ?, ?)\n",
    "''', patients_data)\n",
    "conn.commit()"
   ]
  },
  {
   "cell_type": "code",
   "execution_count": 24,
   "id": "8ba1f455",
   "metadata": {},
   "outputs": [
    {
     "name": "stdout",
     "output_type": "stream",
     "text": [
      "Giữa Nguyen và Tran: Khác biệt\n",
      "Giữa Nguyen và Phung: Khác biệt\n",
      "Giữa Nguyen và Nguyen: Tương đồng\n",
      "Giữa Tran và Phung: Khác biệt\n",
      "Giữa Tran và Nguyen: Khác biệt\n",
      "Giữa Phung và Nguyen: Khác biệt\n"
     ]
    }
   ],
   "source": [
    "# Đặt ngưỡng cho các thuộc tính\n",
    "weight_threshold = 1  # Ngưỡng cho trọng lượng (kg)\n",
    "\n",
    "# Sử dụng SQL để tính toán mức độ tương đồng giữa các bệnh nhân\n",
    "cursor.execute('''\n",
    "SELECT p1.last_name AS name1, p2.last_name AS name2,\n",
    "       CASE WHEN p1.last_name = p2.last_name THEN 0 ELSE 1 END AS name_diff,\n",
    "       CASE WHEN ABS(p1.weight - p2.weight) <= ? THEN 0 ELSE 1 END AS weight_diff\n",
    "FROM Patient p1, Patient p2\n",
    "WHERE p1.rowid < p2.rowid\n",
    "''', (weight_threshold,))\n",
    "\n",
    "# Hiển thị kết quả\n",
    "rows = cursor.fetchall()\n",
    "for row in rows:\n",
    "    name1, name2, name_diff, weight_diff = row\n",
    "    # Tính toán tỷ lệ tương đồng giữa hai bản ghi\n",
    "    total_diff = name_diff + weight_diff\n",
    "    similarity = 1 - (total_diff / 2)  # Tỷ lệ tương đồng (giảm dần khi sự khác biệt tăng lên)\n",
    "    \n",
    "    # Hiển thị kết quả dạng chữ\n",
    "    if similarity == 1:\n",
    "        similarity_text = \"Tương đồng\"\n",
    "    else:\n",
    "        similarity_text = \"Khác biệt\"\n",
    "    \n",
    "    print(f\"Giữa {name1} và {name2}: {similarity_text}\")"
   ]
  }
 ],
 "metadata": {
  "kernelspec": {
   "display_name": "Python 3",
   "language": "python",
   "name": "python3"
  },
  "language_info": {
   "codemirror_mode": {
    "name": "ipython",
    "version": 3
   },
   "file_extension": ".py",
   "mimetype": "text/x-python",
   "name": "python",
   "nbconvert_exporter": "python",
   "pygments_lexer": "ipython3",
   "version": "3.11.5"
  }
 },
 "nbformat": 4,
 "nbformat_minor": 5
}
